{
 "cells": [
  {
   "cell_type": "code",
   "execution_count": 1,
   "metadata": {},
   "outputs": [],
   "source": [
    "from argparse import Namespace\n",
    "import matplotlib.pyplot as plt\n",
    "import os\n",
    "os.environ[\"KMP_DUPLICATE_LIB_OK\"]=\"True\""
   ]
  },
  {
   "cell_type": "code",
   "execution_count": 2,
   "metadata": {},
   "outputs": [],
   "source": [
    "from data_loader import get_loaders\n",
    "from trainer import Trainer\n",
    "from model import Image_regression"
   ]
  },
  {
   "cell_type": "code",
   "execution_count": 3,
   "metadata": {},
   "outputs": [],
   "source": [
    "import torch\n",
    "import torch.nn as nn\n",
    "import torchvision\n",
    "from torchvision import datasets, transforms\n",
    "import torch.optim as optim"
   ]
  },
  {
   "cell_type": "code",
   "execution_count": 4,
   "metadata": {},
   "outputs": [],
   "source": [
    "config = {\n",
    "    'train_ratio': .6,\n",
    "    'batch_size': 50,\n",
    "    'n_epochs': 50,\n",
    "    'verbose': 2,\n",
    "    'btl_size': 2,\n",
    "    \"device\":\"cpu\",\n",
    "    \"model_fn\":\"./model.pth\"\n",
    "}\n",
    "\n",
    "config = Namespace(**config)"
   ]
  },
  {
   "cell_type": "code",
   "execution_count": 5,
   "metadata": {},
   "outputs": [],
   "source": [
    "model = Image_regression()\n",
    "optimizer = optim.Adam(model.parameters())\n",
    "crit = nn.MSELoss()\n",
    "\n",
    "trainer = Trainer(model, optimizer, crit)"
   ]
  },
  {
   "cell_type": "code",
   "execution_count": 6,
   "metadata": {},
   "outputs": [],
   "source": [
    "train_loader, valid_loader = get_loaders(config)"
   ]
  },
  {
   "cell_type": "code",
   "execution_count": null,
   "metadata": {
    "scrolled": true
   },
   "outputs": [
    {
     "name": "stdout",
     "output_type": "stream",
     "text": [
      "Train Iteraion(1/96) : loss : 9.3869e+02\n",
      "Train Iteraion(2/96) : loss : 5.2382e+03\n",
      "Train Iteraion(3/96) : loss : 7.2081e+02\n",
      "Train Iteraion(4/96) : loss : 2.0654e+03\n",
      "Train Iteraion(5/96) : loss : 3.7144e+02\n",
      "Train Iteraion(6/96) : loss : 4.4287e+02\n",
      "Train Iteraion(7/96) : loss : 8.4895e+02\n",
      "Train Iteraion(8/96) : loss : 2.8861e+02\n",
      "Train Iteraion(9/96) : loss : 3.3314e+02\n",
      "Train Iteraion(10/96) : loss : 6.8090e+02\n",
      "Train Iteraion(11/96) : loss : 3.7027e+02\n",
      "Train Iteraion(12/96) : loss : 2.0288e+02\n",
      "Train Iteraion(13/96) : loss : 1.2814e+02\n",
      "Train Iteraion(14/96) : loss : 2.1050e+02\n",
      "Train Iteraion(15/96) : loss : 2.9560e+02\n",
      "Train Iteraion(16/96) : loss : 1.4114e+02\n",
      "Train Iteraion(17/96) : loss : 1.0306e+03\n",
      "Train Iteraion(18/96) : loss : 1.6266e+02\n",
      "Train Iteraion(19/96) : loss : 9.6179e+01\n",
      "Train Iteraion(20/96) : loss : 6.1821e+01\n",
      "Train Iteraion(21/96) : loss : 7.3171e+01\n",
      "Train Iteraion(22/96) : loss : 1.7720e+02\n",
      "Train Iteraion(23/96) : loss : 2.9660e+02\n",
      "Train Iteraion(24/96) : loss : 8.8028e+01\n",
      "Train Iteraion(25/96) : loss : 2.3086e+02\n",
      "Train Iteraion(26/96) : loss : 4.4772e+01\n",
      "Train Iteraion(27/96) : loss : 3.2499e+02\n",
      "Train Iteraion(28/96) : loss : 1.2618e+02\n",
      "Train Iteraion(29/96) : loss : 5.2340e+01\n",
      "Train Iteraion(30/96) : loss : 5.9827e+01\n",
      "Train Iteraion(31/96) : loss : 4.1449e+01\n",
      "Train Iteraion(32/96) : loss : 8.7149e+01\n",
      "Train Iteraion(33/96) : loss : 4.0672e+02\n",
      "Train Iteraion(34/96) : loss : 7.3801e+01\n",
      "Train Iteraion(35/96) : loss : 4.0256e+02\n",
      "Train Iteraion(36/96) : loss : 1.4265e+02\n",
      "Train Iteraion(37/96) : loss : 9.3730e+01\n",
      "Train Iteraion(38/96) : loss : 8.6623e+01\n",
      "Train Iteraion(39/96) : loss : 7.4786e+02\n",
      "Train Iteraion(40/96) : loss : 2.5454e+01\n",
      "Train Iteraion(41/96) : loss : 1.8071e+02\n",
      "Train Iteraion(42/96) : loss : 1.1730e+02\n",
      "Train Iteraion(43/96) : loss : 9.5809e+02\n",
      "Train Iteraion(44/96) : loss : 8.0390e+01\n",
      "Train Iteraion(45/96) : loss : 7.0857e+01\n",
      "Train Iteraion(46/96) : loss : 3.3933e+03\n",
      "Train Iteraion(47/96) : loss : 1.1181e+02\n",
      "Train Iteraion(48/96) : loss : 1.1727e+02\n",
      "Train Iteraion(49/96) : loss : 1.0344e+02\n",
      "Train Iteraion(50/96) : loss : 6.3256e+01\n",
      "Train Iteraion(51/96) : loss : 5.0923e+04\n",
      "Train Iteraion(52/96) : loss : 1.3012e+02\n",
      "Train Iteraion(53/96) : loss : 4.3171e+02\n",
      "Train Iteraion(54/96) : loss : 2.9580e+02\n",
      "Train Iteraion(55/96) : loss : 5.7507e+02\n",
      "Train Iteraion(56/96) : loss : 4.0625e+02\n",
      "Train Iteraion(57/96) : loss : 2.7678e+02\n",
      "Train Iteraion(58/96) : loss : 2.0273e+02\n",
      "Train Iteraion(59/96) : loss : 1.5977e+02\n",
      "Train Iteraion(60/96) : loss : 3.0915e+02\n",
      "Train Iteraion(61/96) : loss : 2.0791e+02\n",
      "Train Iteraion(62/96) : loss : 5.8601e+02\n",
      "Train Iteraion(63/96) : loss : 1.8244e+02\n",
      "Train Iteraion(64/96) : loss : 4.0633e+02\n",
      "Train Iteraion(65/96) : loss : 1.3715e+02\n",
      "Train Iteraion(66/96) : loss : 9.8306e+01\n",
      "Train Iteraion(67/96) : loss : 1.0871e+02\n",
      "Train Iteraion(68/96) : loss : 1.5059e+03\n",
      "Train Iteraion(69/96) : loss : 1.2529e+02\n",
      "Train Iteraion(70/96) : loss : 1.3350e+02\n",
      "Train Iteraion(71/96) : loss : 5.7263e+03\n",
      "Train Iteraion(72/96) : loss : 3.2029e+02\n",
      "Train Iteraion(73/96) : loss : 2.9484e+02\n",
      "Train Iteraion(74/96) : loss : 2.7257e+02\n",
      "Train Iteraion(75/96) : loss : 2.9206e+02\n",
      "Train Iteraion(76/96) : loss : 2.4117e+02\n",
      "Train Iteraion(77/96) : loss : 1.2791e+02\n",
      "Train Iteraion(78/96) : loss : 2.8929e+03\n",
      "Train Iteraion(79/96) : loss : 1.6731e+02\n",
      "Train Iteraion(80/96) : loss : 1.7000e+02\n",
      "Train Iteraion(81/96) : loss : 4.0381e+02\n",
      "Train Iteraion(82/96) : loss : 1.6211e+03\n",
      "Train Iteraion(83/96) : loss : 7.9078e+02\n",
      "Train Iteraion(84/96) : loss : 1.3269e+02\n",
      "Train Iteraion(85/96) : loss : 1.6135e+02\n",
      "Train Iteraion(86/96) : loss : 1.0689e+03\n",
      "Train Iteraion(87/96) : loss : 1.6436e+03\n",
      "Train Iteraion(88/96) : loss : 1.6959e+02\n",
      "Train Iteraion(89/96) : loss : 2.6816e+02\n",
      "Train Iteraion(90/96) : loss : 1.5862e+02\n",
      "Train Iteraion(91/96) : loss : 7.1319e+01\n",
      "Train Iteraion(92/96) : loss : 1.6710e+02\n",
      "Train Iteraion(93/96) : loss : 2.5467e+02\n",
      "Train Iteraion(94/96) : loss : 1.1599e+02\n",
      "Train Iteraion(95/96) : loss : 5.8210e+03\n",
      "Train Iteraion(96/96) : loss : 2.0924e+02\n",
      "Valid Iteraion(1/24) : loss: 3.8843e+02\n",
      "Valid Iteraion(2/24) : loss: 3.5080e+02\n",
      "Valid Iteraion(3/24) : loss: 3.4612e+02\n",
      "Valid Iteraion(4/24) : loss: 3.5519e+02\n",
      "Valid Iteraion(5/24) : loss: 3.3437e+02\n",
      "Valid Iteraion(6/24) : loss: 5.7381e+02\n",
      "Valid Iteraion(7/24) : loss: 5.6948e+02\n",
      "Valid Iteraion(8/24) : loss: 3.5103e+02\n",
      "Valid Iteraion(9/24) : loss: 3.9621e+03\n",
      "Valid Iteraion(10/24) : loss: 3.7174e+02\n",
      "Valid Iteraion(11/24) : loss: 3.0624e+02\n",
      "Valid Iteraion(12/24) : loss: 9.1791e+02\n",
      "Valid Iteraion(13/24) : loss: 3.1295e+02\n",
      "Valid Iteraion(14/24) : loss: 3.6842e+02\n",
      "Valid Iteraion(15/24) : loss: 3.1584e+02\n",
      "Valid Iteraion(16/24) : loss: 8.8033e+02\n",
      "Valid Iteraion(17/24) : loss: 4.1406e+02\n",
      "Valid Iteraion(18/24) : loss: 4.3064e+02\n",
      "Valid Iteraion(19/24) : loss: 3.0638e+02\n",
      "Valid Iteraion(20/24) : loss: 4.1439e+02\n",
      "Valid Iteraion(21/24) : loss: 1.4606e+03\n",
      "Valid Iteraion(22/24) : loss: 3.3069e+02\n",
      "Valid Iteraion(23/24) : loss: 3.1701e+02\n",
      "Valid Iteraion(24/24) : loss: 3.8409e+02\n",
      "Epoch(0/50): train_los: 1.7362e+01, valid_loss=2.4604e+00, lowest_loss=2.4604e+00\n",
      "Train Iteraion(1/96) : loss : 6.4596e+02\n",
      "Train Iteraion(2/96) : loss : 2.4804e+02\n"
     ]
    }
   ],
   "source": [
    "trainer.train(train_loader, valid_loader, config)"
   ]
  },
  {
   "cell_type": "code",
   "execution_count": null,
   "metadata": {},
   "outputs": [],
   "source": [
    "model.state_dict()"
   ]
  }
 ],
 "metadata": {
  "kernelspec": {
   "display_name": "Python 3",
   "language": "python",
   "name": "python3"
  },
  "language_info": {
   "codemirror_mode": {
    "name": "ipython",
    "version": 3
   },
   "file_extension": ".py",
   "mimetype": "text/x-python",
   "name": "python",
   "nbconvert_exporter": "python",
   "pygments_lexer": "ipython3",
   "version": "3.8.3"
  }
 },
 "nbformat": 4,
 "nbformat_minor": 4
}